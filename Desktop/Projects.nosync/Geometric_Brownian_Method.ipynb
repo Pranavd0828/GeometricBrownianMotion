{
 "cells": [
  {
   "cell_type": "code",
   "execution_count": 1,
   "metadata": {},
   "outputs": [],
   "source": [
    "import scipy\n",
    "import warnings\n",
    "warnings.filterwarnings('ignore')\n",
    "import matplotlib.pyplot as plt\n",
    "import numpy as np"
   ]
  },
  {
   "cell_type": "code",
   "execution_count": 2,
   "metadata": {},
   "outputs": [],
   "source": [
    "mu = 1.;\n",
    "sigma = 0.5;\n",
    "T = 1.          # length of the interval [0, T] in time units\n",
    "\n",
    "trials = 200\n",
    "\n",
    "N = 100\n",
    "Delta = T/N     # number of end-points of the grid including T Delta = T/N;"
   ]
  },
  {
   "cell_type": "markdown",
   "metadata": {},
   "source": [
    "### Initialization of the vector W approximating"
   ]
  },
  {
   "cell_type": "code",
   "execution_count": 3,
   "metadata": {},
   "outputs": [],
   "source": [
    "W = scipy.zeros((trials, N+1), dtype = float)"
   ]
  },
  {
   "cell_type": "markdown",
   "metadata": {},
   "source": [
    "### Wiener process"
   ]
  },
  {
   "cell_type": "code",
   "execution_count": 4,
   "metadata": {},
   "outputs": [],
   "source": [
    "t = scipy.ones( (trials,N+1), dtype = float) * scipy.linspace(0, T, N+1)\n",
    "W[:, 1:N+1] = scipy.cumsum(scipy.sqrt(Delta)*scipy.random .standard_normal( (trials , N)), axis = 1,)"
   ]
  },
  {
   "cell_type": "code",
   "execution_count": 5,
   "metadata": {},
   "outputs": [],
   "source": [
    "GBM = scipy.exp( mu*t + sigma*W) \n",
    "meanGBM = scipy.mean(GBM, axis=0)\n",
    "\n",
    "predicted_mean_GBM_rate = mu + (1./2.)*sigma**2\n",
    "\n",
    "meanGBM_rate = scipy.polyfit( scipy.linspace(0, T, N+1), scipy.log(meanGBM), 1)"
   ]
  },
  {
   "cell_type": "code",
   "execution_count": 6,
   "metadata": {},
   "outputs": [
    {
     "name": "stdout",
     "output_type": "stream",
     "text": [
      "Observed Mean GBM Relative Rate: 1.1274339660699613\n",
      "Predicted Mean GBM Relative Rate: 1.125\n"
     ]
    }
   ],
   "source": [
    "print(\"Observed Mean GBM Relative Rate:\", meanGBM_rate[0])\n",
    "print(\"Predicted Mean GBM Relative Rate:\", predicted_mean_GBM_rate)"
   ]
  }
 ],
 "metadata": {
  "kernelspec": {
   "display_name": "Python 3.7 (tensorflow)",
   "language": "python",
   "name": "tensorflow"
  },
  "language_info": {
   "codemirror_mode": {
    "name": "ipython",
    "version": 3
   },
   "file_extension": ".py",
   "mimetype": "text/x-python",
   "name": "python",
   "nbconvert_exporter": "python",
   "pygments_lexer": "ipython3",
   "version": "3.7.4"
  }
 },
 "nbformat": 4,
 "nbformat_minor": 4
}
